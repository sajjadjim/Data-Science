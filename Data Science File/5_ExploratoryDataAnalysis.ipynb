{
 "cells": [
  {
   "cell_type": "code",
   "execution_count": 1,
   "metadata": {
    "id": "hg_XIstvlZfr"
   },
   "outputs": [],
   "source": [
    "#importing libraries\n",
    "import matplotlib.pyplot as plt\n",
    "import matplotlib.mlab as mlab\n",
    "import seaborn as sns\n",
    "import pandas as pd\n",
    "import numpy as np"
   ]
  },
  {
   "cell_type": "code",
   "execution_count": null,
   "metadata": {
    "id": "prbQ_6Jvlf2Z"
   },
   "outputs": [],
   "source": [
    "url='/content/drive/MyDrive/Summer 2022/CSE 511 (MSc)/Week-01/data-dhaka-weather1953-2016.csv'\n",
    "df = pd.read_csv(url)"
   ]
  },
  {
   "cell_type": "code",
   "execution_count": null,
   "metadata": {
    "colab": {
     "base_uri": "https://localhost:8080/"
    },
    "id": "dOiSKy4R_jRT",
    "outputId": "fd5030ec-8ec2-418b-bf99-369c2bcf3309"
   },
   "outputs": [],
   "source": [
    "from google.colab import drive\n",
    "drive.mount('/content/drive')"
   ]
  },
  {
   "cell_type": "code",
   "execution_count": null,
   "metadata": {
    "colab": {
     "base_uri": "https://localhost:8080/",
     "height": 206
    },
    "id": "6QlqxHJelnCY",
    "outputId": "813e6190-004b-4971-df05-0a7ec7f12121"
   },
   "outputs": [],
   "source": [
    "#Reading Data Head\n",
    "df.head()"
   ]
  },
  {
   "cell_type": "code",
   "execution_count": null,
   "metadata": {
    "colab": {
     "base_uri": "https://localhost:8080/"
    },
    "id": "9BX7qdsg-p5g",
    "outputId": "ceabdf4f-0860-40f6-9889-1d260ec79dd0"
   },
   "outputs": [],
   "source": [
    "df['MaxTemp'].corr(df['Rainfall'])"
   ]
  },
  {
   "cell_type": "code",
   "execution_count": null,
   "metadata": {
    "colab": {
     "base_uri": "https://localhost:8080/",
     "height": 206
    },
    "id": "3GeITfhV5rHW",
    "outputId": "bb7bc204-9337-49a9-f858-4c85c2740cec"
   },
   "outputs": [],
   "source": [
    "#Reading Data Tail\n",
    "df.tail()"
   ]
  },
  {
   "cell_type": "code",
   "execution_count": null,
   "metadata": {
    "colab": {
     "base_uri": "https://localhost:8080/"
    },
    "id": "ftrUBlWV1I9k",
    "outputId": "cc753b08-d0d7-4051-8098-11752458b8ed"
   },
   "outputs": [],
   "source": [
    "#Check Null\n",
    "df.isnull().values.any()"
   ]
  },
  {
   "cell_type": "code",
   "execution_count": null,
   "metadata": {
    "colab": {
     "base_uri": "https://localhost:8080/"
    },
    "id": "TkN6gRi2lp1J",
    "outputId": "df616965-068a-49c7-b265-2663322e72a9"
   },
   "outputs": [],
   "source": [
    "#Showing Columns\n",
    "df.columns"
   ]
  },
  {
   "cell_type": "code",
   "execution_count": null,
   "metadata": {
    "colab": {
     "base_uri": "https://localhost:8080/",
     "height": 284
    },
    "id": "cltiMN1tlzp5",
    "outputId": "d30fdb46-d132-436f-b7f7-fa060b2aa401"
   },
   "outputs": [],
   "source": [
    "#Describing Data Set\n",
    "df.describe()"
   ]
  },
  {
   "cell_type": "code",
   "execution_count": null,
   "metadata": {
    "colab": {
     "base_uri": "https://localhost:8080/",
     "height": 34
    },
    "id": "5Bmj2V8VmLFg",
    "outputId": "4c448a96-c560-44db-89b1-d419e6246e11"
   },
   "outputs": [],
   "source": [
    "#Data set Shape\n",
    "df.shape"
   ]
  },
  {
   "cell_type": "code",
   "execution_count": null,
   "metadata": {
    "colab": {
     "base_uri": "https://localhost:8080/",
     "height": 202
    },
    "id": "MRSDKAREmRyJ",
    "outputId": "a3855f8f-210d-4c75-f7db-807d486a2fc7"
   },
   "outputs": [],
   "source": [
    "#Data set info\n",
    "df.info()"
   ]
  },
  {
   "cell_type": "code",
   "execution_count": null,
   "metadata": {
    "colab": {
     "base_uri": "https://localhost:8080/",
     "height": 134
    },
    "id": "XzHZsv6PmWHY",
    "outputId": "6704ecc8-3dc4-495c-be14-2a03340fc31d"
   },
   "outputs": [],
   "source": [
    "#Dataset median\n",
    "df.median()"
   ]
  },
  {
   "cell_type": "code",
   "execution_count": null,
   "metadata": {
    "colab": {
     "base_uri": "https://localhost:8080/",
     "height": 134
    },
    "id": "1T7KTZ_imczg",
    "outputId": "687e1e4e-2a21-4761-85ae-bea0a2febbef"
   },
   "outputs": [],
   "source": [
    "#Checking kurtosis\n",
    "df.kurtosis()"
   ]
  },
  {
   "cell_type": "code",
   "execution_count": null,
   "metadata": {
    "colab": {
     "base_uri": "https://localhost:8080/",
     "height": 134
    },
    "id": "lQkIc3UHmmrR",
    "outputId": "ed9f491d-ffc6-4256-bc55-7f41fef53c62"
   },
   "outputs": [],
   "source": [
    "#Checking skewness\n",
    "df.skew()"
   ]
  },
  {
   "cell_type": "code",
   "execution_count": null,
   "metadata": {
    "colab": {
     "base_uri": "https://localhost:8080/",
     "height": 225
    },
    "id": "kIf-P6xwmo6I",
    "outputId": "96e9b924-38ad-46a9-d9c5-ab5770eb8f95"
   },
   "outputs": [],
   "source": [
    "#Checking correlation\n",
    "df.corr()"
   ]
  },
  {
   "cell_type": "code",
   "execution_count": null,
   "metadata": {
    "colab": {
     "base_uri": "https://localhost:8080/",
     "height": 235
    },
    "id": "9cPIdy4Km270",
    "outputId": "167dd80e-65d2-4afc-f632-302ff1a69ec6"
   },
   "outputs": [],
   "source": [
    "#Checking covariance\n",
    "df.cov()"
   ]
  },
  {
   "cell_type": "code",
   "execution_count": null,
   "metadata": {
    "colab": {
     "base_uri": "https://localhost:8080/",
     "height": 505
    },
    "id": "YALSUxxym9cx",
    "outputId": "94aed830-d941-4bb2-9e4b-fdcce85bdc54"
   },
   "outputs": [],
   "source": [
    "#Generating Heatmap\n",
    "correlation = df.corr()\n",
    "plt.figure(figsize=(16, 8))\n",
    "sns.heatmap(correlation, annot=True, linewidths=0, vmin=-1, cmap=\"RdBu_r\")\n",
    "plt.show()"
   ]
  },
  {
   "cell_type": "code",
   "execution_count": null,
   "metadata": {
    "colab": {
     "base_uri": "https://localhost:8080/",
     "height": 252
    },
    "id": "D2zpMCwl1dEn",
    "outputId": "7b41745e-37b5-4362-d318-cc80c7925bea"
   },
   "outputs": [],
   "source": [
    "#month wise parameter checking\n",
    "rain=df.groupby('Month')['Rainfall'].mean()\n",
    "rain\n",
    "#sns.distplot(rain)"
   ]
  },
  {
   "cell_type": "code",
   "execution_count": null,
   "metadata": {
    "colab": {
     "base_uri": "https://localhost:8080/",
     "height": 296
    },
    "id": "tQ0nsZn-3LWC",
    "outputId": "aef4574a-9834-4d02-858d-eb463c9a59b2"
   },
   "outputs": [],
   "source": [
    "#month wise distribution\n",
    "sns.distplot(rain)"
   ]
  },
  {
   "cell_type": "code",
   "execution_count": null,
   "metadata": {
    "colab": {
     "base_uri": "https://localhost:8080/",
     "height": 252
    },
    "id": "bYir_BRYwvbr",
    "outputId": "4aa5931a-05fa-4c10-c24c-50e5cd71900b"
   },
   "outputs": [],
   "source": [
    "# Finding out most rainy months\n",
    "df.groupby('Month')['Rainfall'].mean().sort_values(ascending=False)\n"
   ]
  },
  {
   "cell_type": "code",
   "execution_count": null,
   "metadata": {
    "colab": {
     "base_uri": "https://localhost:8080/",
     "height": 252
    },
    "id": "UC9Xed9W3CwD",
    "outputId": "7561d569-a198-46c5-810c-b2a13927853a"
   },
   "outputs": [],
   "source": [
    "#month wise parameter checking\n",
    "mxt=df.groupby('Month')['MaxTemp'].mean()\n",
    "mxt"
   ]
  },
  {
   "cell_type": "code",
   "execution_count": null,
   "metadata": {
    "colab": {
     "base_uri": "https://localhost:8080/",
     "height": 296
    },
    "id": "sAV30V724NuH",
    "outputId": "2cd50309-2239-4830-ecad-1b2c78704bc1"
   },
   "outputs": [],
   "source": [
    "#month wise distribution\n",
    "sns.distplot(mxt)"
   ]
  },
  {
   "cell_type": "code",
   "execution_count": null,
   "metadata": {
    "colab": {
     "base_uri": "https://localhost:8080/",
     "height": 252
    },
    "id": "_bd-dbxJxNGA",
    "outputId": "451d007f-818d-4684-c7fb-efce3fd163ec"
   },
   "outputs": [],
   "source": [
    "# Finding out most MaxTemp months\n",
    "df.groupby('Month')['MaxTemp'].mean().sort_values(ascending=True)"
   ]
  },
  {
   "cell_type": "code",
   "execution_count": null,
   "metadata": {
    "colab": {
     "base_uri": "https://localhost:8080/",
     "height": 252
    },
    "id": "vtxkK5Oo4bsI",
    "outputId": "38ed168e-7937-4c44-e277-b8d4665101ba"
   },
   "outputs": [],
   "source": [
    "#month wise parameter checking\n",
    "mt=df.groupby('Month')['MinTemp'].mean()\n",
    "mt"
   ]
  },
  {
   "cell_type": "code",
   "execution_count": null,
   "metadata": {
    "colab": {
     "base_uri": "https://localhost:8080/",
     "height": 296
    },
    "id": "vU7eDAQt42ow",
    "outputId": "9f626447-1f33-4cbe-9641-ea7308274fd9"
   },
   "outputs": [],
   "source": [
    "#month wise distribution\n",
    "sns.distplot(mt)"
   ]
  },
  {
   "cell_type": "code",
   "execution_count": null,
   "metadata": {
    "colab": {
     "base_uri": "https://localhost:8080/",
     "height": 252
    },
    "id": "vjA9TAgQxbsZ",
    "outputId": "d1c8f811-a486-49a2-de63-b35a9532c010"
   },
   "outputs": [],
   "source": [
    "# Finding out most MaxTemp months\n",
    "df.groupby('Month')['MinTemp'].mean().sort_values(ascending=True)"
   ]
  },
  {
   "cell_type": "code",
   "execution_count": null,
   "metadata": {
    "colab": {
     "base_uri": "https://localhost:8080/",
     "height": 252
    },
    "id": "g_A8G_v04-Ig",
    "outputId": "97de91d7-51a9-4e24-aace-6ecb4999d41c"
   },
   "outputs": [],
   "source": [
    "#month wise parameter checking\n",
    "hm=df.groupby('Month')['RelativeHumidity'].mean()\n",
    "hm"
   ]
  },
  {
   "cell_type": "code",
   "execution_count": null,
   "metadata": {
    "colab": {
     "base_uri": "https://localhost:8080/",
     "height": 252
    },
    "id": "43JIreaoxu-g",
    "outputId": "e0bf23eb-6b17-4ee4-824c-7d2ef757b58f"
   },
   "outputs": [],
   "source": [
    "# Finding out most MaxTemp months\n",
    "df.groupby('Month')['RelativeHumidity'].mean().sort_values(ascending=False)"
   ]
  },
  {
   "cell_type": "code",
   "execution_count": null,
   "metadata": {
    "colab": {
     "base_uri": "https://localhost:8080/",
     "height": 296
    },
    "id": "wUdl-8nt5IYv",
    "outputId": "662e0992-c5e0-44c6-d051-88c672fdfd3e"
   },
   "outputs": [],
   "source": [
    "#month wise distribution\n",
    "sns.distplot(hm)"
   ]
  },
  {
   "cell_type": "code",
   "execution_count": null,
   "metadata": {
    "colab": {
     "base_uri": "https://localhost:8080/",
     "height": 374
    },
    "id": "3KO4DwvQnHip",
    "outputId": "7d550a77-85c2-4ee1-f177-c039e4e3e60a"
   },
   "outputs": [],
   "source": [
    "#Visualizing Boxplot\n",
    "plt.figure(figsize=(16, 6))\n",
    "ax = sns.boxplot(data=df, orient=\"h\", palette=\"Set2\")"
   ]
  },
  {
   "cell_type": "code",
   "execution_count": null,
   "metadata": {
    "colab": {
     "base_uri": "https://localhost:8080/",
     "height": 279
    },
    "id": "ijfCHWu1ngRh",
    "outputId": "82cc00b8-1596-4a08-ecc7-104d678b7ec8"
   },
   "outputs": [],
   "source": [
    "ax = sns.boxplot(x=df[\"Rainfall\"])"
   ]
  },
  {
   "cell_type": "code",
   "execution_count": null,
   "metadata": {
    "colab": {
     "base_uri": "https://localhost:8080/",
     "height": 279
    },
    "id": "RXQZveO9oZUZ",
    "outputId": "9c774efc-1fa7-48a7-c6f0-0530ec254a20"
   },
   "outputs": [],
   "source": [
    "ax = sns.boxplot(x=df[\"RelativeHumidity\"])"
   ]
  },
  {
   "cell_type": "code",
   "execution_count": null,
   "metadata": {
    "colab": {
     "base_uri": "https://localhost:8080/",
     "height": 388
    },
    "id": "w5VQMGQPpQq7",
    "outputId": "0d672fa0-d6d6-4f9d-e52d-20b4043d27b2"
   },
   "outputs": [],
   "source": [
    "plt.figure(figsize=(16, 6))\n",
    "ax = sns.boxplot(x=\"RelativeHumidity\", y=\"Rainfall\", data=df)"
   ]
  },
  {
   "cell_type": "code",
   "execution_count": null,
   "metadata": {
    "colab": {
     "base_uri": "https://localhost:8080/",
     "height": 386
    },
    "id": "p4Prjty5uUuG",
    "outputId": "dff3b8cd-8197-49cb-d250-fb097d728ca9"
   },
   "outputs": [],
   "source": [
    "plt.figure(figsize=(16, 6))\n",
    "ax=sns.catplot(x=\"Month\", y=\"Rainfall\", kind=\"box\", data=df);"
   ]
  },
  {
   "cell_type": "code",
   "execution_count": null,
   "metadata": {
    "colab": {
     "base_uri": "https://localhost:8080/",
     "height": 369
    },
    "id": "esbAFkt7wm1u",
    "outputId": "45d65d29-ca52-439d-9344-b0e528de396d"
   },
   "outputs": [],
   "source": [
    "\n",
    "ax=sns.catplot(x=\"Month\", y=\"MinTemp\", kind=\"box\", data=df)"
   ]
  },
  {
   "cell_type": "code",
   "execution_count": null,
   "metadata": {
    "colab": {
     "base_uri": "https://localhost:8080/",
     "height": 369
    },
    "id": "K5vjZVlEwuwi",
    "outputId": "84250ed5-f6ca-4101-ebb8-41281c20648c"
   },
   "outputs": [],
   "source": [
    "ax=sns.catplot(x=\"Month\", y=\"MaxTemp\", kind=\"box\", data=df)"
   ]
  },
  {
   "cell_type": "code",
   "execution_count": null,
   "metadata": {
    "colab": {
     "base_uri": "https://localhost:8080/",
     "height": 408
    },
    "id": "1uH2QOpRqP27",
    "outputId": "ddc517ce-8846-4edb-f774-9f12bc965597"
   },
   "outputs": [],
   "source": [
    "plt.figure(figsize=(50, 6))\n",
    "ax = sns.boxplot(x=\"MinTemp\", y=\"Rainfall\", data=df)"
   ]
  },
  {
   "cell_type": "code",
   "execution_count": null,
   "metadata": {
    "colab": {
     "base_uri": "https://localhost:8080/",
     "height": 398
    },
    "id": "cU2QOIfurMJy",
    "outputId": "dccd8fa7-198a-4a48-8fa1-a7874dedd4f3"
   },
   "outputs": [],
   "source": [
    "\n",
    "df.hist()"
   ]
  },
  {
   "cell_type": "code",
   "execution_count": null,
   "metadata": {
    "colab": {
     "base_uri": "https://localhost:8080/",
     "height": 296
    },
    "id": "UmF8ueMOpeUJ",
    "outputId": "429cba96-2322-499c-d7f6-4c210dc58f5d"
   },
   "outputs": [],
   "source": [
    "#Distribution Plot\n",
    "sns.distplot(df['Rainfall'])"
   ]
  },
  {
   "cell_type": "code",
   "execution_count": null,
   "metadata": {
    "colab": {
     "base_uri": "https://localhost:8080/",
     "height": 296
    },
    "id": "SFcNmIJYrST5",
    "outputId": "82ac50f0-3882-4d5f-f804-de9997a1d4a2"
   },
   "outputs": [],
   "source": [
    "#Distribution Plot\n",
    "sns.distplot(df['RelativeHumidity'])"
   ]
  },
  {
   "cell_type": "code",
   "execution_count": null,
   "metadata": {
    "colab": {
     "base_uri": "https://localhost:8080/",
     "height": 297
    },
    "id": "q1V3FiXDsDRy",
    "outputId": "2c92411d-6f80-481d-c8e3-67722766f7d5"
   },
   "outputs": [],
   "source": [
    "#Distribution Plot\n",
    "sns.distplot(df['MinTemp'])"
   ]
  },
  {
   "cell_type": "code",
   "execution_count": null,
   "metadata": {
    "colab": {
     "base_uri": "https://localhost:8080/",
     "height": 1000
    },
    "id": "suyyQdG9sHHr",
    "outputId": "4ccbac8f-ee8b-451d-bd33-7bfe9e6638dd"
   },
   "outputs": [],
   "source": [
    "#Drawing Pairplot\n",
    "sns.pairplot(df);"
   ]
  },
  {
   "cell_type": "code",
   "execution_count": null,
   "metadata": {
    "colab": {
     "base_uri": "https://localhost:8080/",
     "height": 283
    },
    "id": "ydQLF--RV97c",
    "outputId": "6d1ed1a7-cb10-4e96-bb29-7f36e11f1307"
   },
   "outputs": [],
   "source": [
    "plt.scatter(df.Rainfall,df.RelativeHumidity)\n"
   ]
  },
  {
   "cell_type": "code",
   "execution_count": null,
   "metadata": {
    "colab": {
     "base_uri": "https://localhost:8080/",
     "height": 441
    },
    "id": "g0UhaXTCsiVC",
    "outputId": "eda2fc55-838d-48f5-a94f-76cb8e946520"
   },
   "outputs": [],
   "source": [
    "sns.jointplot(x=\"Rainfall\", y=\"RelativeHumidity\", data=df, kind=\"reg\");"
   ]
  },
  {
   "cell_type": "code",
   "execution_count": null,
   "metadata": {
    "colab": {
     "base_uri": "https://localhost:8080/",
     "height": 441
    },
    "id": "wy2aTAlrxn7D",
    "outputId": "aedeae36-a3ac-4379-c45c-83678ebfc289"
   },
   "outputs": [],
   "source": [
    "sns.jointplot(x=\"Rainfall\", y=\"MinTemp\", data=df, kind=\"reg\");"
   ]
  },
  {
   "cell_type": "code",
   "execution_count": null,
   "metadata": {
    "colab": {
     "base_uri": "https://localhost:8080/",
     "height": 441
    },
    "id": "PZSMwMls5dKl",
    "outputId": "e506c214-c210-408c-9ea2-eb678f0c4df6"
   },
   "outputs": [],
   "source": [
    "sns.jointplot(x=\"Rainfall\", y=\"MaxTemp\", data=df, kind=\"reg\");"
   ]
  },
  {
   "cell_type": "code",
   "execution_count": null,
   "metadata": {
    "colab": {
     "base_uri": "https://localhost:8080/",
     "height": 441
    },
    "id": "dhrYcwEk5iF1",
    "outputId": "f3982e4d-a16f-47b6-c65c-0f7fac0ae821"
   },
   "outputs": [],
   "source": [
    "sns.jointplot(x=\"Rainfall\", y=\"Month\", data=df, kind=\"reg\");"
   ]
  },
  {
   "cell_type": "code",
   "execution_count": null,
   "metadata": {
    "colab": {
     "base_uri": "https://localhost:8080/",
     "height": 204
    },
    "id": "AVoMIxNB4Vn9",
    "outputId": "968760a2-619c-4418-a6cc-44f552621098"
   },
   "outputs": [],
   "source": [
    "df.head()"
   ]
  },
  {
   "cell_type": "code",
   "execution_count": null,
   "metadata": {
    "id": "T9mnPPDa42vh"
   },
   "outputs": [],
   "source": [
    "#converting int to string\n",
    "df['YAER1'] = df.YEAR.astype(str)\n",
    "df['MONTH1'] = df.Month.astype(str)"
   ]
  },
  {
   "cell_type": "code",
   "execution_count": null,
   "metadata": {
    "id": "rBfgQ7nW9yiH"
   },
   "outputs": [],
   "source": [
    "df.info()"
   ]
  },
  {
   "cell_type": "code",
   "execution_count": null,
   "metadata": {
    "id": "0Xwe6jhu_KVV"
   },
   "outputs": [],
   "source": [
    "#Creating new columns for time series plot\n",
    "df['DateStamp'] = df['YAER1'] +'-'+ df['MONTH1']+'-30'"
   ]
  },
  {
   "cell_type": "code",
   "execution_count": null,
   "metadata": {
    "id": "RHwfx7IcE5jT"
   },
   "outputs": [],
   "source": [
    "df1=df"
   ]
  },
  {
   "cell_type": "code",
   "execution_count": null,
   "metadata": {
    "id": "q6lUtF62AOSD"
   },
   "outputs": [],
   "source": [
    "#Setting DateStamp as index\n",
    "df1=df1.set_index(\"DateStamp\", inplace = True)"
   ]
  },
  {
   "cell_type": "code",
   "execution_count": null,
   "metadata": {
    "colab": {
     "base_uri": "https://localhost:8080/",
     "height": 173
    },
    "id": "_JEOSPclBDVk",
    "outputId": "c37457d1-70c6-4219-d244-3baa5f835029"
   },
   "outputs": [],
   "source": [
    "df.head(3)"
   ]
  },
  {
   "cell_type": "code",
   "execution_count": null,
   "metadata": {
    "colab": {
     "base_uri": "https://localhost:8080/",
     "height": 607
    },
    "id": "zcdVRAIH_um4",
    "outputId": "1bc4aeb9-1af3-451f-d747-2b29a1435c39"
   },
   "outputs": [],
   "source": [
    "#Overall TS plot using matplotlib\n",
    "import matplotlib.pyplot as plt\n",
    "\n",
    "df.plot(figsize=(20,10))\n",
    "plt.title(\"Time series plot of Dhaka weather\")\n",
    "plt.show()"
   ]
  },
  {
   "cell_type": "code",
   "execution_count": null,
   "metadata": {
    "colab": {
     "base_uri": "https://localhost:8080/",
     "height": 404
    },
    "id": "-l0wuircDFYW",
    "outputId": "b6aaeb09-6faa-4cae-ea9e-041fc4704b44"
   },
   "outputs": [],
   "source": [
    "#MaxTemp TS plot using sns\n",
    "plt.figure(figsize=(16, 6))\n",
    "plt.title('Time series plot of MaxTemp')\n",
    "ax = sns.lineplot(x=\"YEAR\", y=\"MaxTemp\",err_style=\"bars\",label=\"MaxTemp\", ci=95,data=df)"
   ]
  },
  {
   "cell_type": "code",
   "execution_count": null,
   "metadata": {
    "colab": {
     "base_uri": "https://localhost:8080/",
     "height": 404
    },
    "id": "ncNG4EApGUZN",
    "outputId": "8647dcfb-9926-46d4-af53-45c2b82d6b92"
   },
   "outputs": [],
   "source": [
    "#MinTemp TS plot using sns\n",
    "plt.figure(figsize=(16, 6))\n",
    "plt.title('Time series plot of MinTemp')\n",
    "ax = sns.lineplot(x=\"YEAR\", y=\"MinTemp\",color=\"blue\", ci=90,label=\"MinTemp\",data=df)"
   ]
  },
  {
   "cell_type": "code",
   "execution_count": null,
   "metadata": {
    "colab": {
     "base_uri": "https://localhost:8080/",
     "height": 424
    },
    "id": "qjb1YKjZGlkV",
    "outputId": "065d3a1d-8103-46f3-8061-4e45e06e5544"
   },
   "outputs": [],
   "source": [
    "#Relative HumidityTS plot using sns\n",
    "plt.figure(figsize=(16, 6))\n",
    "plt.title('Time series plot of Relative Humidity')\n",
    "ax = sns.lineplot(x=\"YEAR\", y=\"RelativeHumidity\",label=\"Relative Humidity\",ci=80,data=df)"
   ]
  },
  {
   "cell_type": "code",
   "execution_count": null,
   "metadata": {
    "colab": {
     "base_uri": "https://localhost:8080/",
     "height": 424
    },
    "id": "DLiZ98XkI9ri",
    "outputId": "c5d365e8-fab3-4249-b131-1ca747376703"
   },
   "outputs": [],
   "source": [
    "#Relative HumidityTS plot using sns\n",
    "plt.figure(figsize=(16, 6))\n",
    "plt.title('Time series plot of Rainfall')\n",
    "ax = sns.lineplot(x=\"YEAR\", y=\"Rainfall\",label=\"Rainfall\",ci=80,data=df)"
   ]
  },
  {
   "cell_type": "code",
   "execution_count": null,
   "metadata": {
    "colab": {
     "base_uri": "https://localhost:8080/",
     "height": 238
    },
    "id": "lwYb-gdeKQ9Z",
    "outputId": "d3fea4a6-bce4-43f0-8db3-fbe770f137f1"
   },
   "outputs": [],
   "source": [
    "#Yearly Min Temp Change\n",
    "min=df.groupby('YEAR')['MinTemp'].mean()\n"
   ]
  },
  {
   "cell_type": "code",
   "execution_count": null,
   "metadata": {
    "colab": {
     "base_uri": "https://localhost:8080/",
     "height": 394
    },
    "id": "V0PeG2qJKgub",
    "outputId": "3eb11da0-4ca3-425a-89ee-42ca29c479b8"
   },
   "outputs": [],
   "source": [
    "#Yearly Min Temp Change plot\n",
    "plt.figure(figsize=(16, 6))\n",
    "ax = sns.lineplot( label=\"Yearly Mean Min Temp.\",data=min)"
   ]
  },
  {
   "cell_type": "code",
   "execution_count": null,
   "metadata": {
    "colab": {
     "base_uri": "https://localhost:8080/",
     "height": 394
    },
    "id": "VQAcCW2xPi9o",
    "outputId": "b5716d45-c852-4abc-c5e8-aa782f642cbd"
   },
   "outputs": [],
   "source": [
    "#Yearly Min Temp Change\n",
    "rainfall=df.groupby('YEAR')['Rainfall'].sum()\n",
    "plt.figure(figsize=(16, 6))\n",
    "ax = sns.lineplot( label=\"Yearly Total Rainfall\",data=rainfall)"
   ]
  },
  {
   "cell_type": "code",
   "execution_count": null,
   "metadata": {
    "colab": {
     "base_uri": "https://localhost:8080/",
     "height": 374
    },
    "id": "5D3FNO87P852",
    "outputId": "b3b84dd5-af68-4ebb-a432-e7572cb20862"
   },
   "outputs": [],
   "source": [
    "#Yearly Min Temp Change\n",
    "rh=df.groupby('YEAR')['RelativeHumidity'].mean()\n",
    "plt.figure(figsize=(16, 6))\n",
    "ax = sns.lineplot( label=\"Yearly Mean Relative Humidity\",data=rh)"
   ]
  }
 ],
 "metadata": {
  "colab": {
   "provenance": []
  },
  "kernelspec": {
   "display_name": "Python 3 (ipykernel)",
   "language": "python",
   "name": "python3"
  },
  "language_info": {
   "codemirror_mode": {
    "name": "ipython",
    "version": 3
   },
   "file_extension": ".py",
   "mimetype": "text/x-python",
   "name": "python",
   "nbconvert_exporter": "python",
   "pygments_lexer": "ipython3",
   "version": "3.11.7"
  }
 },
 "nbformat": 4,
 "nbformat_minor": 4
}
