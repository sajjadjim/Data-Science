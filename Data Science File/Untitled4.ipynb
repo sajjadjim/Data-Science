{
 "cells": [
  {
   "cell_type": "code",
   "execution_count": null,
   "id": "42ab3c93-7b47-43eb-af5d-8fa258234dcb",
   "metadata": {},
   "outputs": [],
   "source": [
    "import matplotlib.pyplot as plt\n",
    "import seaborn as sns\n",
    "import numpy as np\n",
    "import pandas as pd\n",
    "dt = pd.read_csv(\"data.csv\")\n",
    "dt"
   ]
  },
  {
   "cell_type": "code",
   "execution_count": 2,
   "id": "e1ed0469-cf9a-4a47-9707-fdb1f023fe7a",
   "metadata": {},
   "outputs": [
    {
     "data": {
      "text/plain": [
       "(7, 6)"
      ]
     },
     "execution_count": 2,
     "metadata": {},
     "output_type": "execute_result"
    }
   ],
   "source": [
    "dt.shape"
   ]
  },
  {
   "cell_type": "code",
   "execution_count": null,
   "id": "24ce1bf5-8b79-4bc4-bc6c-2d85342ce72e",
   "metadata": {},
   "outputs": [],
   "source": [
    "dt.isnull()"
   ]
  },
  {
   "cell_type": "code",
   "execution_count": null,
   "id": "65393823-1eae-4d10-8e74-e479f11b246c",
   "metadata": {},
   "outputs": [],
   "source": [
    "Full_fill_data =dt.fillna(0)\n",
    "Full_fill_data"
   ]
  },
  {
   "cell_type": "code",
   "execution_count": null,
   "id": "7c295e67-6d18-449a-9f51-572edc68c86c",
   "metadata": {},
   "outputs": [],
   "source": [
    "Full_fill_data.describe()"
   ]
  },
  {
   "cell_type": "code",
   "execution_count": 6,
   "id": "4eeb347c-4950-44be-a488-97d849e320c4",
   "metadata": {},
   "outputs": [
    {
     "data": {
      "text/html": [
       "<div>\n",
       "<style scoped>\n",
       "    .dataframe tbody tr th:only-of-type {\n",
       "        vertical-align: middle;\n",
       "    }\n",
       "\n",
       "    .dataframe tbody tr th {\n",
       "        vertical-align: top;\n",
       "    }\n",
       "\n",
       "    .dataframe thead th {\n",
       "        text-align: right;\n",
       "    }\n",
       "</style>\n",
       "<table border=\"1\" class=\"dataframe\">\n",
       "  <thead>\n",
       "    <tr style=\"text-align: right;\">\n",
       "      <th></th>\n",
       "      <th>Student ID</th>\n",
       "      <th>Student Name</th>\n",
       "      <th>CGPA</th>\n",
       "      <th>Age</th>\n",
       "      <th>Semester</th>\n",
       "      <th>Gender</th>\n",
       "    </tr>\n",
       "  </thead>\n",
       "  <tbody>\n",
       "    <tr>\n",
       "      <th>0</th>\n",
       "      <td>111</td>\n",
       "      <td>A</td>\n",
       "      <td>3.22</td>\n",
       "      <td>18.0</td>\n",
       "      <td>F22</td>\n",
       "      <td>male</td>\n",
       "    </tr>\n",
       "    <tr>\n",
       "      <th>3</th>\n",
       "      <td>444</td>\n",
       "      <td>D</td>\n",
       "      <td>4.00</td>\n",
       "      <td>20.0</td>\n",
       "      <td>F23</td>\n",
       "      <td>male</td>\n",
       "    </tr>\n",
       "    <tr>\n",
       "      <th>4</th>\n",
       "      <td>555</td>\n",
       "      <td>E</td>\n",
       "      <td>3.68</td>\n",
       "      <td>21.0</td>\n",
       "      <td>S23</td>\n",
       "      <td>male</td>\n",
       "    </tr>\n",
       "    <tr>\n",
       "      <th>5</th>\n",
       "      <td>666</td>\n",
       "      <td>F</td>\n",
       "      <td>3.89</td>\n",
       "      <td>22.0</td>\n",
       "      <td>S23</td>\n",
       "      <td>male</td>\n",
       "    </tr>\n",
       "    <tr>\n",
       "      <th>6</th>\n",
       "      <td>777</td>\n",
       "      <td>O</td>\n",
       "      <td>3.91</td>\n",
       "      <td>30.0</td>\n",
       "      <td>F23</td>\n",
       "      <td>other</td>\n",
       "    </tr>\n",
       "  </tbody>\n",
       "</table>\n",
       "</div>"
      ],
      "text/plain": [
       "   Student ID Student Name  CGPA   Age Semester Gender\n",
       "0         111            A  3.22  18.0      F22   male\n",
       "3         444            D  4.00  20.0      F23   male\n",
       "4         555            E  3.68  21.0      S23   male\n",
       "5         666            F  3.89  22.0      S23   male\n",
       "6         777            O  3.91  30.0      F23  other"
      ]
     },
     "execution_count": 6,
     "metadata": {},
     "output_type": "execute_result"
    }
   ],
   "source": [
    "delete_data =dt.dropna(inplace=False)\n",
    "delete_data"
   ]
  },
  {
   "cell_type": "code",
   "execution_count": null,
   "id": "4ff77eff-732f-4f83-bc72-32cac26f9aea",
   "metadata": {},
   "outputs": [],
   "source": [
    "from sklearn.preprocessing import LabelEncoder\n",
    "le = LabelEncoder() \n",
    "dt['Gender']= le.fit_transform(dt['Gender']) \n",
    "dt                             "
   ]
  },
  {
   "cell_type": "code",
   "execution_count": null,
   "id": "381f38eb-4dc8-47cd-a42f-54791c1ebbd8",
   "metadata": {},
   "outputs": [],
   "source": [
    "Delete_data=dt.dropna(inplace=False)\n",
    "Delete_data"
   ]
  },
  {
   "cell_type": "code",
   "execution_count": null,
   "id": "7890adbe-bc44-4989-ae7d-457644f4d220",
   "metadata": {},
   "outputs": [],
   "source": [
    "dt1 = pd.get_dummies(dt, columns=['Gender'])\n",
    "dt1"
   ]
  },
  {
   "cell_type": "code",
   "execution_count": 10,
   "id": "7824c539-d0af-4e3d-ad30-12e04fb2181d",
   "metadata": {},
   "outputs": [
    {
     "data": {
      "text/html": [
       "<div>\n",
       "<style scoped>\n",
       "    .dataframe tbody tr th:only-of-type {\n",
       "        vertical-align: middle;\n",
       "    }\n",
       "\n",
       "    .dataframe tbody tr th {\n",
       "        vertical-align: top;\n",
       "    }\n",
       "\n",
       "    .dataframe thead th {\n",
       "        text-align: right;\n",
       "    }\n",
       "</style>\n",
       "<table border=\"1\" class=\"dataframe\">\n",
       "  <thead>\n",
       "    <tr style=\"text-align: right;\">\n",
       "      <th></th>\n",
       "      <th>Student ID</th>\n",
       "      <th>Student Name</th>\n",
       "      <th>CGPA</th>\n",
       "      <th>Age</th>\n",
       "      <th>Semester</th>\n",
       "      <th>Gender</th>\n",
       "    </tr>\n",
       "  </thead>\n",
       "  <tbody>\n",
       "  </tbody>\n",
       "</table>\n",
       "</div>"
      ],
      "text/plain": [
       "Empty DataFrame\n",
       "Columns: [Student ID, Student Name, CGPA, Age, Semester, Gender]\n",
       "Index: []"
      ]
     },
     "execution_count": 10,
     "metadata": {},
     "output_type": "execute_result"
    }
   ],
   "source": [
    "duplicates = dt[dt.duplicated()]\n",
    "duplicates"
   ]
  },
  {
   "cell_type": "code",
   "execution_count": null,
   "id": "0aae7aef-4446-44b8-89d4-813ecfcf4363",
   "metadata": {},
   "outputs": [],
   "source": [
    "dt.head()"
   ]
  }
 ],
 "metadata": {
  "kernelspec": {
   "display_name": "Python 3 (ipykernel)",
   "language": "python",
   "name": "python3"
  },
  "language_info": {
   "codemirror_mode": {
    "name": "ipython",
    "version": 3
   },
   "file_extension": ".py",
   "mimetype": "text/x-python",
   "name": "python",
   "nbconvert_exporter": "python",
   "pygments_lexer": "ipython3",
   "version": "3.11.7"
  }
 },
 "nbformat": 4,
 "nbformat_minor": 5
}
